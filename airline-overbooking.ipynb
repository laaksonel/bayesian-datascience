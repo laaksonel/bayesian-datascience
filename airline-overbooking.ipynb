{
 "cells": [
  {
   "cell_type": "markdown",
   "metadata": {},
   "source": [
    "# Airline overbooking for maximum profit\n",
    "\n",
    "Airlines are known to overbook their flights to maximize their profits per flight.\n",
    "Overbooking is based on the fact that not all reserved seats are actually used, in other words, a passenger won't show up on the flight.\n",
    "\n",
    "If a flight is not overbooked enough, potential profits are never collected.\n",
    "If there's too much overbooking, all the passengers won't have a seat on the flight and they have to be compensated financially. This means extra expenses for the airline.\n",
    "The goal is to determine the optimal point of overbooking to maximize the profit. \n"
   ]
  },
  {
   "cell_type": "code",
   "execution_count": 258,
   "metadata": {},
   "outputs": [],
   "source": [
    "import numpy as np\n",
    "import pymc3 as pm\n",
    "import seaborn as sns\n",
    "import pandas as pd"
   ]
  },
  {
   "cell_type": "code",
   "execution_count": 259,
   "metadata": {},
   "outputs": [],
   "source": [
    "# This kind of information could be calculated from the airline's flight history data\n",
    "prob_passenger_on_flight = 0.95"
   ]
  },
  {
   "cell_type": "code",
   "execution_count": 260,
   "metadata": {},
   "outputs": [],
   "source": [
    "def passenger_on_flight(prob):\n",
    "    return np.random.rand() < prob"
   ]
  },
  {
   "cell_type": "code",
   "execution_count": 261,
   "metadata": {},
   "outputs": [],
   "source": [
    "# revenue = total tickets sold\n",
    "# compensation loss = passengers without a seat * amount of compensation\n",
    "# profit = revenue - expenses"
   ]
  },
  {
   "cell_type": "code",
   "execution_count": 262,
   "metadata": {},
   "outputs": [],
   "source": [
    "# Flight simulation\n",
    "# Simulates how many passengers actually show up on the flight\n",
    "def simulate_flight(prob_passenger_on_flight, tickets_sold):\n",
    "    passengers_on_flight = 0\n",
    "    for x in range(tickets_sold):\n",
    "        passengers_on_flight += passenger_on_flight(prob_passenger_on_flight)\n",
    "    return passengers_on_flight\n"
   ]
  },
  {
   "cell_type": "code",
   "execution_count": 263,
   "metadata": {},
   "outputs": [],
   "source": [
    "def simulate_revenue(tickets_sold, seats_in_plane, ticket_price, compensation_price):\n",
    "    # How many passengers took their seats\n",
    "    seats_used = simulate_flight(prob_passenger_on_flight, tickets_sold)\n",
    "\n",
    "    # No extra passengers showed up\n",
    "    if seats_used <= seats_in_plane:\n",
    "        return ticket_price * tickets_sold\n",
    "    else:\n",
    "        # Extra passengers are needed to be compensated\n",
    "        return seats_in_plane * ticket_price - (seats_used - seats_in_plane) * compensation_price\n",
    "        "
   ]
  },
  {
   "cell_type": "code",
   "execution_count": 264,
   "metadata": {},
   "outputs": [],
   "source": [
    "seats_in_plane = 100\n",
    "ticket_price = 350\n",
    "compensation_price = 2 * ticket_price"
   ]
  },
  {
   "cell_type": "code",
   "execution_count": 265,
   "metadata": {},
   "outputs": [],
   "source": [
    "flight_count = 100000\n",
    "max_overbooking = 15\n",
    "\n",
    "revenues = np.zeros([flight_count, max_overbooking + 1])\n",
    "\n",
    "for f in range(flight_count):\n",
    "    for ob in range(max_overbooking + 1):\n",
    "        revenues[f, ob] = simulate_revenue(seats_in_plane + ob,\n",
    "                                           seats_in_plane,\n",
    "                                           ticket_price,\n",
    "                                           compensation_price)"
   ]
  },
  {
   "cell_type": "code",
   "execution_count": 266,
   "metadata": {},
   "outputs": [
    {
     "data": {
      "text/plain": [
       "<AxesSubplot:>"
      ]
     },
     "execution_count": 266,
     "metadata": {},
     "output_type": "execute_result"
    },
    {
     "data": {
      "image/png": "[encoded data removed]",
      "text/plain": [
       "<Figure size 432x288 with 1 Axes>"
      ]
     },
     "metadata": {
      "needs_background": "light"
     },
     "output_type": "display_data"
    }
   ],
   "source": [
    "sns.boxplot(data=revenues)"
   ]
  },
  {
   "cell_type": "code",
   "execution_count": 267,
   "metadata": {},
   "outputs": [
    {
     "data": {
      "text/html": [
       "<div>\n",
       "<style scoped>\n",
       "    .dataframe tbody tr th:only-of-type {\n",
       "        vertical-align: middle;\n",
       "    }\n",
       "\n",
       "    .dataframe tbody tr th {\n",
       "        vertical-align: top;\n",
       "    }\n",
       "\n",
       "    .dataframe thead th {\n",
       "        text-align: right;\n",
       "    }\n",
       "</style>\n",
       "<table border=\"1\" class=\"dataframe\">\n",
       "  <thead>\n",
       "    <tr style=\"text-align: right;\">\n",
       "      <th></th>\n",
       "      <th>0</th>\n",
       "      <th>1</th>\n",
       "      <th>2</th>\n",
       "      <th>3</th>\n",
       "      <th>4</th>\n",
       "      <th>5</th>\n",
       "      <th>6</th>\n",
       "      <th>7</th>\n",
       "      <th>8</th>\n",
       "      <th>9</th>\n",
       "      <th>10</th>\n",
       "      <th>11</th>\n",
       "      <th>12</th>\n",
       "      <th>13</th>\n",
       "      <th>14</th>\n",
       "      <th>15</th>\n",
       "    </tr>\n",
       "  </thead>\n",
       "  <tbody>\n",
       "    <tr>\n",
       "      <th>count</th>\n",
       "      <td>100000.0</td>\n",
       "      <td>100000.000000</td>\n",
       "      <td>100000.000000</td>\n",
       "      <td>100000.000000</td>\n",
       "      <td>100000.000000</td>\n",
       "      <td>100000.000000</td>\n",
       "      <td>100000.000000</td>\n",
       "      <td>100000.000000</td>\n",
       "      <td>100000.000000</td>\n",
       "      <td>100000.000000</td>\n",
       "      <td>100000.000000</td>\n",
       "      <td>100000.000000</td>\n",
       "      <td>100000.000000</td>\n",
       "      <td>100000.000000</td>\n",
       "      <td>100000.000000</td>\n",
       "      <td>100000.000000</td>\n",
       "    </tr>\n",
       "    <tr>\n",
       "      <th>mean</th>\n",
       "      <td>35000.0</td>\n",
       "      <td>35344.309000</td>\n",
       "      <td>35649.033000</td>\n",
       "      <td>35834.515500</td>\n",
       "      <td>35809.851000</td>\n",
       "      <td>35537.075000</td>\n",
       "      <td>35016.058000</td>\n",
       "      <td>34324.689000</td>\n",
       "      <td>33544.903000</td>\n",
       "      <td>32760.521500</td>\n",
       "      <td>31987.235000</td>\n",
       "      <td>31265.066000</td>\n",
       "      <td>30561.335000</td>\n",
       "      <td>29869.241500</td>\n",
       "      <td>29194.221000</td>\n",
       "      <td>28524.517000</td>\n",
       "    </tr>\n",
       "    <tr>\n",
       "      <th>std</th>\n",
       "      <td>0.0</td>\n",
       "      <td>77.092295</td>\n",
       "      <td>276.327394</td>\n",
       "      <td>633.321416</td>\n",
       "      <td>1100.788161</td>\n",
       "      <td>1568.622947</td>\n",
       "      <td>1943.769154</td>\n",
       "      <td>2161.361103</td>\n",
       "      <td>2207.606703</td>\n",
       "      <td>2139.109787</td>\n",
       "      <td>2005.734724</td>\n",
       "      <td>1883.694879</td>\n",
       "      <td>1772.107367</td>\n",
       "      <td>1703.774594</td>\n",
       "      <td>1667.861961</td>\n",
       "      <td>1654.006885</td>\n",
       "    </tr>\n",
       "    <tr>\n",
       "      <th>min</th>\n",
       "      <td>35000.0</td>\n",
       "      <td>34300.000000</td>\n",
       "      <td>33600.000000</td>\n",
       "      <td>32900.000000</td>\n",
       "      <td>32200.000000</td>\n",
       "      <td>31500.000000</td>\n",
       "      <td>30800.000000</td>\n",
       "      <td>30100.000000</td>\n",
       "      <td>29400.000000</td>\n",
       "      <td>28700.000000</td>\n",
       "      <td>28000.000000</td>\n",
       "      <td>27300.000000</td>\n",
       "      <td>26600.000000</td>\n",
       "      <td>25900.000000</td>\n",
       "      <td>25200.000000</td>\n",
       "      <td>24500.000000</td>\n",
       "    </tr>\n",
       "    <tr>\n",
       "      <th>25%</th>\n",
       "      <td>35000.0</td>\n",
       "      <td>35350.000000</td>\n",
       "      <td>35700.000000</td>\n",
       "      <td>36050.000000</td>\n",
       "      <td>36400.000000</td>\n",
       "      <td>34300.000000</td>\n",
       "      <td>33600.000000</td>\n",
       "      <td>32900.000000</td>\n",
       "      <td>32200.000000</td>\n",
       "      <td>31500.000000</td>\n",
       "      <td>30800.000000</td>\n",
       "      <td>30100.000000</td>\n",
       "      <td>29400.000000</td>\n",
       "      <td>28700.000000</td>\n",
       "      <td>28000.000000</td>\n",
       "      <td>27300.000000</td>\n",
       "    </tr>\n",
       "    <tr>\n",
       "      <th>50%</th>\n",
       "      <td>35000.0</td>\n",
       "      <td>35350.000000</td>\n",
       "      <td>35700.000000</td>\n",
       "      <td>36050.000000</td>\n",
       "      <td>36400.000000</td>\n",
       "      <td>36750.000000</td>\n",
       "      <td>34300.000000</td>\n",
       "      <td>33600.000000</td>\n",
       "      <td>32900.000000</td>\n",
       "      <td>32200.000000</td>\n",
       "      <td>31500.000000</td>\n",
       "      <td>30800.000000</td>\n",
       "      <td>30100.000000</td>\n",
       "      <td>29400.000000</td>\n",
       "      <td>29400.000000</td>\n",
       "      <td>28700.000000</td>\n",
       "    </tr>\n",
       "    <tr>\n",
       "      <th>75%</th>\n",
       "      <td>35000.0</td>\n",
       "      <td>35350.000000</td>\n",
       "      <td>35700.000000</td>\n",
       "      <td>36050.000000</td>\n",
       "      <td>36400.000000</td>\n",
       "      <td>36750.000000</td>\n",
       "      <td>37100.000000</td>\n",
       "      <td>37450.000000</td>\n",
       "      <td>34300.000000</td>\n",
       "      <td>33600.000000</td>\n",
       "      <td>32900.000000</td>\n",
       "      <td>32200.000000</td>\n",
       "      <td>31500.000000</td>\n",
       "      <td>30800.000000</td>\n",
       "      <td>30100.000000</td>\n",
       "      <td>29400.000000</td>\n",
       "    </tr>\n",
       "    <tr>\n",
       "      <th>max</th>\n",
       "      <td>35000.0</td>\n",
       "      <td>35350.000000</td>\n",
       "      <td>35700.000000</td>\n",
       "      <td>36050.000000</td>\n",
       "      <td>36400.000000</td>\n",
       "      <td>36750.000000</td>\n",
       "      <td>37100.000000</td>\n",
       "      <td>37450.000000</td>\n",
       "      <td>37800.000000</td>\n",
       "      <td>38150.000000</td>\n",
       "      <td>38500.000000</td>\n",
       "      <td>38850.000000</td>\n",
       "      <td>39200.000000</td>\n",
       "      <td>39550.000000</td>\n",
       "      <td>39900.000000</td>\n",
       "      <td>40250.000000</td>\n",
       "    </tr>\n",
       "  </tbody>\n",
       "</table>\n",
       "</div>"
      ],
      "text/plain": [
       "             0              1              2              3              4   \\\n",
       "count  100000.0  100000.000000  100000.000000  100000.000000  100000.000000   \n",
       "mean    35000.0   35344.309000   35649.033000   35834.515500   35809.851000   \n",
       "std         0.0      77.092295     276.327394     633.321416    1100.788161   \n",
       "min     35000.0   34300.000000   33600.000000   32900.000000   32200.000000   \n",
       "25%     35000.0   35350.000000   35700.000000   36050.000000   36400.000000   \n",
       "50%     35000.0   35350.000000   35700.000000   36050.000000   36400.000000   \n",
       "75%     35000.0   35350.000000   35700.000000   36050.000000   36400.000000   \n",
       "max     35000.0   35350.000000   35700.000000   36050.000000   36400.000000   \n",
       "\n",
       "                  5              6              7              8   \\\n",
       "count  100000.000000  100000.000000  100000.000000  100000.000000   \n",
       "mean    35537.075000   35016.058000   34324.689000   33544.903000   \n",
       "std      1568.622947    1943.769154    2161.361103    2207.606703   \n",
       "min     31500.000000   30800.000000   30100.000000   29400.000000   \n",
       "25%     34300.000000   33600.000000   32900.000000   32200.000000   \n",
       "50%     36750.000000   34300.000000   33600.000000   32900.000000   \n",
       "75%     36750.000000   37100.000000   37450.000000   34300.000000   \n",
       "max     36750.000000   37100.000000   37450.000000   37800.000000   \n",
       "\n",
       "                  9              10             11             12  \\\n",
       "count  100000.000000  100000.000000  100000.000000  100000.000000   \n",
       "mean    32760.521500   31987.235000   31265.066000   30561.335000   \n",
       "std      2139.109787    2005.734724    1883.694879    1772.107367   \n",
       "min     28700.000000   28000.000000   27300.000000   26600.000000   \n",
       "25%     31500.000000   30800.000000   30100.000000   29400.000000   \n",
       "50%     32200.000000   31500.000000   30800.000000   30100.000000   \n",
       "75%     33600.000000   32900.000000   32200.000000   31500.000000   \n",
       "max     38150.000000   38500.000000   38850.000000   39200.000000   \n",
       "\n",
       "                  13             14             15  \n",
       "count  100000.000000  100000.000000  100000.000000  \n",
       "mean    29869.241500   29194.221000   28524.517000  \n",
       "std      1703.774594    1667.861961    1654.006885  \n",
       "min     25900.000000   25200.000000   24500.000000  \n",
       "25%     28700.000000   28000.000000   27300.000000  \n",
       "50%     29400.000000   29400.000000   28700.000000  \n",
       "75%     30800.000000   30100.000000   29400.000000  \n",
       "max     39550.000000   39900.000000   40250.000000  "
      ]
     },
     "execution_count": 267,
     "metadata": {},
     "output_type": "execute_result"
    }
   ],
   "source": [
    "df = pd.DataFrame(revenues)\n",
    "df.describe()"
   ]
  },
  {
   "cell_type": "markdown",
   "metadata": {},
   "source": [
    "## Conclusion\n",
    "\n",
    "It seems that booking 4 seats over the flight seat capacity gives the most revenue with low uncertainty.\n",
    "Overbooking 5-7 seats might produce more revenue but the results are way more uncertain compared to 4 seats. After 8 seats, the revenue dips significantly."
   ]
  }
 ],
 "metadata": {
  "interpreter": {
   "hash": "de742a1fd6d36825caad44667ef289805446b549d08f66f806ed0a97fb6c27ce"
  },
  "kernelspec": {
   "display_name": "Python 3.9.2 64-bit ('bayesian-analysis': conda)",
   "name": "python3"
  },
  "language_info": {
   "codemirror_mode": {
    "name": "ipython",
    "version": 3
   },
   "file_extension": ".py",
   "mimetype": "text/x-python",
   "name": "python",
   "nbconvert_exporter": "python",
   "pygments_lexer": "ipython3",
   "version": "3.9.2"
  },
  "orig_nbformat": 4
 },
 "nbformat": 4,
 "nbformat_minor": 2
}