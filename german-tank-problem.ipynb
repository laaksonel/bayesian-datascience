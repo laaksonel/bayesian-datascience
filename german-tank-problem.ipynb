{
 "cells": [
  {
   "cell_type": "markdown",
   "metadata": {},
   "source": [
    "# German tank problem\n",
    "\n",
    "In WWII, the allies used this method to approximate how many tanks German had. Germans used discrete serial numbers on their tanks and the Allies observed these numbers on captured tanks. The statisticans believed that Germans numbered their tanks in the order they were produced so they built a model to approximate the total number of tanks rolling out of German factories."
   ]
  },
  {
   "cell_type": "markdown",
   "metadata": {},
   "source": [
    "## Data generation\n",
    "To simulate this case, let's first choose a value to be the true value of total number of tanks.\n",
    "Based on the chosen true value, next we generate the dataset of observations."
   ]
  },
  {
   "cell_type": "code",
   "execution_count": 29,
   "metadata": {},
   "outputs": [],
   "source": [
    "# This value is hidden from us\n",
    "# We try to estimate this number based on the data we generate from this\n",
    "true_total_number = 1000"
   ]
  },
  {
   "cell_type": "code",
   "execution_count": 30,
   "metadata": {},
   "outputs": [],
   "source": [
    "import pymc3 as pm\n",
    "import numpy as np\n",
    "import arviz as az"
   ]
  },
  {
   "cell_type": "code",
   "execution_count": 31,
   "metadata": {},
   "outputs": [
    {
     "data": {
      "text/plain": [
       "array([805, 529, 261,  59, 498, 846, 297, 396, 144, 400, 977, 107, 532,\n",
       "       487, 452, 390, 304,  31,  73, 973])"
      ]
     },
     "execution_count": 31,
     "metadata": {},
     "output_type": "execute_result"
    }
   ],
   "source": [
    "observed_tank_count = 20\n",
    "# + 1 is here to make the range inclusive\n",
    "# Use choice function to force unique numbers (replace = False)\n",
    "observations = np.random.choice(np.arange(1, true_total_number + 1), observed_tank_count, replace=False)\n",
    "\n",
    "observations"
   ]
  },
  {
   "cell_type": "markdown",
   "metadata": {},
   "source": [
    "## Model\n",
    "Based on the observations, let's build the actual model to estimate the total count of the produced tanks."
   ]
  },
  {
   "cell_type": "code",
   "execution_count": 32,
   "metadata": {},
   "outputs": [
    {
     "name": "stderr",
     "output_type": "stream",
     "text": [
      "<ipython-input-32-8be6946bfa95>:8: FutureWarning: In v4.0, pm.sample will return an `arviz.InferenceData` object instead of a `MultiTrace` by default. You can pass return_inferencedata=True or return_inferencedata=False to be safe and silence this warning.\n",
      "  posterior = pm.sample(10000)\n",
      "Multiprocess sampling (4 chains in 4 jobs)\n",
      "Metropolis: [total_count]\n"
     ]
    },
    {
     "data": {
      "text/html": [
       "\n",
       "    <div>\n",
       "        <style>\n",
       "            /* Turns off some styling */\n",
       "            progress {\n",
       "                /* gets rid of default border in Firefox and Opera. */\n",
       "                border: none;\n",
       "                /* Needs to be in here for Safari polyfill so background images work as expected. */\n",
       "                background-size: auto;\n",
       "            }\n",
       "            .progress-bar-interrupted, .progress-bar-interrupted::-webkit-progress-bar {\n",
       "                background: #F44336;\n",
       "            }\n",
       "        </style>\n",
       "      <progress value='44000' class='' max='44000' style='width:300px; height:20px; vertical-align: middle;'></progress>\n",
       "      100.00% [44000/44000 00:03<00:00 Sampling 4 chains, 0 divergences]\n",
       "    </div>\n",
       "    "
      ],
      "text/plain": [
       "<IPython.core.display.HTML object>"
      ]
     },
     "metadata": {},
     "output_type": "display_data"
    },
    {
     "name": "stderr",
     "output_type": "stream",
     "text": [
      "Sampling 4 chains for 1_000 tune and 10_000 draw iterations (4_000 + 40_000 draws total) took 4 seconds.\n",
      "The number of effective samples is smaller than 10% for some parameters.\n"
     ]
    }
   ],
   "source": [
    "with pm.Model() as model:\n",
    "\t# Prior for the total count\n",
    "\t# The largest observation tells us how many tanks there at least have to be\n",
    "\t# Upper limit is our own estimation how many tanks there could be\n",
    "\t# 10 000 is large enough to cover all the at least somewhat possible maximum counts for the tanks\n",
    "\tprior_total_count = pm.DiscreteUniform('total_count', np.max(observations), 10000)\n",
    "\tlikelihood_total_count = pm.DiscreteUniform('observed', 1, prior_total_count, observed=observations)\n",
    "\tposterior = pm.sample(10000)\n"
   ]
  },
  {
   "cell_type": "code",
   "execution_count": 33,
   "metadata": {},
   "outputs": [
    {
     "name": "stderr",
     "output_type": "stream",
     "text": [
      "/home/late/anaconda3/envs/datascience/lib/python3.9/site-packages/arviz/data/io_pymc3.py:96: FutureWarning: Using `from_pymc3` without the model will be deprecated in a future release. Not using the model will return less accurate and less useful results. Make sure you use the model argument or call from_pymc3 within a model context.\n",
      "  warnings.warn(\n"
     ]
    },
    {
     "data": {
      "text/html": [
       "<div>\n",
       "<style scoped>\n",
       "    .dataframe tbody tr th:only-of-type {\n",
       "        vertical-align: middle;\n",
       "    }\n",
       "\n",
       "    .dataframe tbody tr th {\n",
       "        vertical-align: top;\n",
       "    }\n",
       "\n",
       "    .dataframe thead th {\n",
       "        text-align: right;\n",
       "    }\n",
       "</style>\n",
       "<table border=\"1\" class=\"dataframe\">\n",
       "  <thead>\n",
       "    <tr style=\"text-align: right;\">\n",
       "      <th></th>\n",
       "      <th>mean</th>\n",
       "      <th>sd</th>\n",
       "      <th>hdi_3%</th>\n",
       "      <th>hdi_97%</th>\n",
       "      <th>mcse_mean</th>\n",
       "      <th>mcse_sd</th>\n",
       "      <th>ess_bulk</th>\n",
       "      <th>ess_tail</th>\n",
       "      <th>r_hat</th>\n",
       "    </tr>\n",
       "  </thead>\n",
       "  <tbody>\n",
       "    <tr>\n",
       "      <th>total_count</th>\n",
       "      <td>1030.169</td>\n",
       "      <td>55.953</td>\n",
       "      <td>977.0</td>\n",
       "      <td>1129.0</td>\n",
       "      <td>1.014</td>\n",
       "      <td>0.717</td>\n",
       "      <td>2657.0</td>\n",
       "      <td>2432.0</td>\n",
       "      <td>1.0</td>\n",
       "    </tr>\n",
       "  </tbody>\n",
       "</table>\n",
       "</div>"
      ],
      "text/plain": [
       "                 mean      sd  hdi_3%  hdi_97%  mcse_mean  mcse_sd  ess_bulk  \\\n",
       "total_count  1030.169  55.953   977.0   1129.0      1.014    0.717    2657.0   \n",
       "\n",
       "             ess_tail  r_hat  \n",
       "total_count    2432.0    1.0  "
      ]
     },
     "execution_count": 33,
     "metadata": {},
     "output_type": "execute_result"
    }
   ],
   "source": [
    "az.summary(posterior)"
   ]
  },
  {
   "cell_type": "code",
   "execution_count": 34,
   "metadata": {},
   "outputs": [
    {
     "name": "stderr",
     "output_type": "stream",
     "text": [
      "/home/late/anaconda3/envs/datascience/lib/python3.9/site-packages/arviz/data/io_pymc3.py:96: FutureWarning: Using `from_pymc3` without the model will be deprecated in a future release. Not using the model will return less accurate and less useful results. Make sure you use the model argument or call from_pymc3 within a model context.\n",
      "  warnings.warn(\n"
     ]
    },
    {
     "data": {
      "text/plain": [
       "<AxesSubplot:title={'center':'total_count'}>"
      ]
     },
     "execution_count": 34,
     "metadata": {},
     "output_type": "execute_result"
    },
    {
     "data": {
      "image/png": "[encoded data removed]",
      "text/plain": [
       "<Figure size 432x288 with 1 Axes>"
      ]
     },
     "metadata": {
      "needs_background": "light"
     },
     "output_type": "display_data"
    }
   ],
   "source": [
    "az.plot_posterior(posterior)"
   ]
  },
  {
   "cell_type": "markdown",
   "metadata": {},
   "source": [
    "## Results\n",
    "With 20 observed tank serial numbers, we built a model which simulated the same scenario 10 000 times. Based on those simulations, the mean of the total tank count is 1030. This is just a point estimate which ignores the uncertainty completely.\n",
    "\n",
    "The more appropriate way to interpret is to look at the posterior distribution as a whole. 94% of the simulation results are captured between 977 and 1129 tanks. This is a decent probability one could bet for. With this distribution we can also prepare for the worst case scenarios. For example, there's a little chance that there could be over 1200 tanks, how would we deal with such a scenario in our defence?"
   ]
  }
 ],
 "metadata": {
  "interpreter": {
   "hash": "cdcbf2fe18c2e319c6cfab65b1058d4e14d46a9f3534bbd5b63e4a0b34c31805"
  },
  "kernelspec": {
   "display_name": "Python 3.9.2 64-bit ('streamlit': conda)",
   "name": "python3"
  },
  "language_info": {
   "codemirror_mode": {
    "name": "ipython",
    "version": 3
   },
   "file_extension": ".py",
   "mimetype": "text/x-python",
   "name": "python",
   "nbconvert_exporter": "python",
   "pygments_lexer": "ipython3",
   "version": "3.9.2"
  },
  "orig_nbformat": 4
 },
 "nbformat": 4,
 "nbformat_minor": 2
}