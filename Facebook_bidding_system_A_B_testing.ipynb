{
  "nbformat": 4,
  "nbformat_minor": 0,
  "metadata": {
    "colab": {
      "name": "Facebook bidding system A/B testing",
      "provenance": [],
      "collapsed_sections": [],
      "authorship_tag": "ABX9TyMTdwgYThY8EEBUtutewhvP",
      "include_colab_link": true
    },
    "kernelspec": {
      "name": "python3",
      "display_name": "Python 3"
    },
    "language_info": {
      "name": "python"
    }
  },
  "cells": [
    {
      "cell_type": "markdown",
      "metadata": {
        "id": "view-in-github",
        "colab_type": "text"
      },
      "source": [
        "<a href=\"https://colab.research.google.com/github/laaksonenl/bayesian-datascience/blob/main/Facebook_bidding_system_A_B_testing.ipynb\" target=\"_parent\"><img src=\"https://colab.research.google.com/assets/colab-badge.svg\" alt=\"Open In Colab\"/></a>"
      ]
    },
    {
      "cell_type": "code",
      "metadata": {
        "id": "sfwwFCs-xS89",
        "colab": {
          "base_uri": "https://localhost:8080/"
        },
        "outputId": "363de770-31ca-4662-9293-d45b0529f047"
      },
      "source": [
        "from google.colab import drive\n",
        "drive.mount('/content/drive')"
      ],
      "execution_count": 1,
      "outputs": [
        {
          "output_type": "stream",
          "text": [
            "Drive already mounted at /content/drive; to attempt to forcibly remount, call drive.mount(\"/content/drive\", force_remount=True).\n"
          ],
          "name": "stdout"
        }
      ]
    },
    {
      "cell_type": "code",
      "metadata": {
        "id": "UMOvUkIF3orJ"
      },
      "source": [
        "import pandas as pd"
      ],
      "execution_count": 2,
      "outputs": []
    },
    {
      "cell_type": "code",
      "metadata": {
        "id": "tYGlWvh13qaU"
      },
      "source": [
        "dataset_path = '/content/drive/MyDrive/colab/Data_Science_Case_Study.xlsx'"
      ],
      "execution_count": 6,
      "outputs": []
    },
    {
      "cell_type": "code",
      "metadata": {
        "id": "1ObqPkIH3-5i"
      },
      "source": [
        "control_group = pd.read_excel(dataset_path, 'Control_Group')\n",
        "test_group = pd.read_excel(dataset_path, 'Test_Group')"
      ],
      "execution_count": 7,
      "outputs": []
    },
    {
      "cell_type": "code",
      "metadata": {
        "colab": {
          "base_uri": "https://localhost:8080/",
          "height": 202
        },
        "id": "ojL24QjE4aV1",
        "outputId": "17341477-5ebe-4520-ff6e-84d031f3a335"
      },
      "source": [
        "control_group.head()"
      ],
      "execution_count": 8,
      "outputs": [
        {
          "output_type": "execute_result",
          "data": {
            "text/html": [
              "<div>\n",
              "<style scoped>\n",
              "    .dataframe tbody tr th:only-of-type {\n",
              "        vertical-align: middle;\n",
              "    }\n",
              "\n",
              "    .dataframe tbody tr th {\n",
              "        vertical-align: top;\n",
              "    }\n",
              "\n",
              "    .dataframe thead th {\n",
              "        text-align: right;\n",
              "    }\n",
              "</style>\n",
              "<table border=\"1\" class=\"dataframe\">\n",
              "  <thead>\n",
              "    <tr style=\"text-align: right;\">\n",
              "      <th></th>\n",
              "      <th>Campaign Name</th>\n",
              "      <th>Date</th>\n",
              "      <th>Spend [USD]</th>\n",
              "      <th># of Impressions</th>\n",
              "      <th>Reach</th>\n",
              "      <th># of Website Clicks</th>\n",
              "      <th># of Searches</th>\n",
              "      <th># of View Content</th>\n",
              "      <th># of Add to Cart</th>\n",
              "      <th># of Purchase</th>\n",
              "    </tr>\n",
              "  </thead>\n",
              "  <tbody>\n",
              "    <tr>\n",
              "      <th>0</th>\n",
              "      <td>Control Campaign</td>\n",
              "      <td>2017.01.01</td>\n",
              "      <td>2436.124529</td>\n",
              "      <td>90572.0</td>\n",
              "      <td>75440.0</td>\n",
              "      <td>4150.0</td>\n",
              "      <td>1657.0</td>\n",
              "      <td>1541.0</td>\n",
              "      <td>566.0</td>\n",
              "      <td>383.0</td>\n",
              "    </tr>\n",
              "    <tr>\n",
              "      <th>1</th>\n",
              "      <td>Control Campaign</td>\n",
              "      <td>2017.01.02</td>\n",
              "      <td>2621.043006</td>\n",
              "      <td>129612.0</td>\n",
              "      <td>95667.0</td>\n",
              "      <td>6387.0</td>\n",
              "      <td>2265.0</td>\n",
              "      <td>1563.0</td>\n",
              "      <td>1577.0</td>\n",
              "      <td>644.0</td>\n",
              "    </tr>\n",
              "    <tr>\n",
              "      <th>2</th>\n",
              "      <td>Control Campaign</td>\n",
              "      <td>2017.01.03</td>\n",
              "      <td>2427.021083</td>\n",
              "      <td>132803.0</td>\n",
              "      <td>121762.0</td>\n",
              "      <td>6887.0</td>\n",
              "      <td>3100.0</td>\n",
              "      <td>2048.0</td>\n",
              "      <td>1381.0</td>\n",
              "      <td>639.0</td>\n",
              "    </tr>\n",
              "    <tr>\n",
              "      <th>3</th>\n",
              "      <td>Control Campaign</td>\n",
              "      <td>2017.01.04</td>\n",
              "      <td>2565.414978</td>\n",
              "      <td>120570.0</td>\n",
              "      <td>104011.0</td>\n",
              "      <td>6478.0</td>\n",
              "      <td>2579.0</td>\n",
              "      <td>2083.0</td>\n",
              "      <td>1650.0</td>\n",
              "      <td>649.0</td>\n",
              "    </tr>\n",
              "    <tr>\n",
              "      <th>4</th>\n",
              "      <td>Control Campaign</td>\n",
              "      <td>2017.01.05</td>\n",
              "      <td>2648.683326</td>\n",
              "      <td>95822.0</td>\n",
              "      <td>69059.0</td>\n",
              "      <td>4532.0</td>\n",
              "      <td>1823.0</td>\n",
              "      <td>1220.0</td>\n",
              "      <td>940.0</td>\n",
              "      <td>455.0</td>\n",
              "    </tr>\n",
              "  </tbody>\n",
              "</table>\n",
              "</div>"
            ],
            "text/plain": [
              "      Campaign Name        Date  ...  # of Add to Cart  # of Purchase\n",
              "0  Control Campaign  2017.01.01  ...             566.0          383.0\n",
              "1  Control Campaign  2017.01.02  ...            1577.0          644.0\n",
              "2  Control Campaign  2017.01.03  ...            1381.0          639.0\n",
              "3  Control Campaign  2017.01.04  ...            1650.0          649.0\n",
              "4  Control Campaign  2017.01.05  ...             940.0          455.0\n",
              "\n",
              "[5 rows x 10 columns]"
            ]
          },
          "metadata": {
            "tags": []
          },
          "execution_count": 8
        }
      ]
    },
    {
      "cell_type": "code",
      "metadata": {
        "colab": {
          "base_uri": "https://localhost:8080/",
          "height": 202
        },
        "id": "tbQliNHx4c3J",
        "outputId": "d9813926-eb80-4eda-d96f-9fd24b8f6195"
      },
      "source": [
        "test_group.head()"
      ],
      "execution_count": 9,
      "outputs": [
        {
          "output_type": "execute_result",
          "data": {
            "text/html": [
              "<div>\n",
              "<style scoped>\n",
              "    .dataframe tbody tr th:only-of-type {\n",
              "        vertical-align: middle;\n",
              "    }\n",
              "\n",
              "    .dataframe tbody tr th {\n",
              "        vertical-align: top;\n",
              "    }\n",
              "\n",
              "    .dataframe thead th {\n",
              "        text-align: right;\n",
              "    }\n",
              "</style>\n",
              "<table border=\"1\" class=\"dataframe\">\n",
              "  <thead>\n",
              "    <tr style=\"text-align: right;\">\n",
              "      <th></th>\n",
              "      <th>Campaign Name</th>\n",
              "      <th>Date</th>\n",
              "      <th>Spend [USD]</th>\n",
              "      <th># of Impressions</th>\n",
              "      <th>Reach</th>\n",
              "      <th># of Website Clicks</th>\n",
              "      <th># of Searches</th>\n",
              "      <th># of View Content</th>\n",
              "      <th># of Add to Cart</th>\n",
              "      <th># of Purchase</th>\n",
              "    </tr>\n",
              "  </thead>\n",
              "  <tbody>\n",
              "    <tr>\n",
              "      <th>0</th>\n",
              "      <td>Test Campaign</td>\n",
              "      <td>2017.01.01</td>\n",
              "      <td>2335.586267</td>\n",
              "      <td>160244</td>\n",
              "      <td>121551</td>\n",
              "      <td>8223</td>\n",
              "      <td>2989</td>\n",
              "      <td>2949</td>\n",
              "      <td>1371</td>\n",
              "      <td>913</td>\n",
              "    </tr>\n",
              "    <tr>\n",
              "      <th>1</th>\n",
              "      <td>Test Campaign</td>\n",
              "      <td>2017.01.02</td>\n",
              "      <td>2899.490621</td>\n",
              "      <td>100793</td>\n",
              "      <td>68241</td>\n",
              "      <td>4972</td>\n",
              "      <td>2162</td>\n",
              "      <td>1388</td>\n",
              "      <td>1253</td>\n",
              "      <td>510</td>\n",
              "    </tr>\n",
              "    <tr>\n",
              "      <th>2</th>\n",
              "      <td>Test Campaign</td>\n",
              "      <td>2017.01.03</td>\n",
              "      <td>3031.740149</td>\n",
              "      <td>89525</td>\n",
              "      <td>83450</td>\n",
              "      <td>3514</td>\n",
              "      <td>1365</td>\n",
              "      <td>1251</td>\n",
              "      <td>995</td>\n",
              "      <td>391</td>\n",
              "    </tr>\n",
              "    <tr>\n",
              "      <th>3</th>\n",
              "      <td>Test Campaign</td>\n",
              "      <td>2017.01.04</td>\n",
              "      <td>2794.847648</td>\n",
              "      <td>110122</td>\n",
              "      <td>89985</td>\n",
              "      <td>4411</td>\n",
              "      <td>1533</td>\n",
              "      <td>1134</td>\n",
              "      <td>951</td>\n",
              "      <td>434</td>\n",
              "    </tr>\n",
              "    <tr>\n",
              "      <th>4</th>\n",
              "      <td>Test Campaign</td>\n",
              "      <td>2017.01.05</td>\n",
              "      <td>2201.845423</td>\n",
              "      <td>122204</td>\n",
              "      <td>84000</td>\n",
              "      <td>5165</td>\n",
              "      <td>1582</td>\n",
              "      <td>1007</td>\n",
              "      <td>810</td>\n",
              "      <td>492</td>\n",
              "    </tr>\n",
              "  </tbody>\n",
              "</table>\n",
              "</div>"
            ],
            "text/plain": [
              "   Campaign Name        Date  ...  # of Add to Cart  # of Purchase\n",
              "0  Test Campaign  2017.01.01  ...              1371            913\n",
              "1  Test Campaign  2017.01.02  ...              1253            510\n",
              "2  Test Campaign  2017.01.03  ...               995            391\n",
              "3  Test Campaign  2017.01.04  ...               951            434\n",
              "4  Test Campaign  2017.01.05  ...               810            492\n",
              "\n",
              "[5 rows x 10 columns]"
            ]
          },
          "metadata": {
            "tags": []
          },
          "execution_count": 9
        }
      ]
    }
  ]
}